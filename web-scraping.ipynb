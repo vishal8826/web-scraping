{
 "cells": [
  {
   "cell_type": "code",
   "execution_count": 1,
   "metadata": {},
   "outputs": [],
   "source": [
    "import requests\n",
    "from bs4 import BeautifulSoup"
   ]
  },
  {
   "cell_type": "code",
   "execution_count": 2,
   "metadata": {},
   "outputs": [],
   "source": [
    "r = requests.get(\"http://www.pyclass.com/real-estate/rock-springs-wy/LCWYROCKSPRINGS/\", headers={'User-agent': 'Mozilla/5.0 (X11; Ubuntu; Linux x86_64; rv:61.0) Gecko/20100101 Firefox/61.0'})"
   ]
  },
  {
   "cell_type": "code",
   "execution_count": 3,
   "metadata": {},
   "outputs": [],
   "source": [
    "c = r.content"
   ]
  },
  {
   "cell_type": "code",
   "execution_count": 4,
   "metadata": {},
   "outputs": [],
   "source": [
    "soup = BeautifulSoup(c, 'html.parser')"
   ]
  },
  {
   "cell_type": "code",
   "execution_count": 11,
   "metadata": {},
   "outputs": [],
   "source": [
    "all = soup.find_all(\"div\",{\"class\":\"propertyRow\"})"
   ]
  },
  {
   "cell_type": "code",
   "execution_count": 55,
   "metadata": {},
   "outputs": [],
   "source": [
    "l = []\n",
    "for item in all:\n",
    "    d = {}\n",
    "    d['Price'] = item.find(\"h4\",{\"class\":\"propPrice\"}).text.replace(\"\\n\",\"\").strip()\n",
    "    d['Address'] = item.find_all(\"span\",{\"class\":\"propAddressCollapse\"})[0].text\n",
    "    d['Locality'] = item.find_all(\"span\",{\"class\":\"propAddressCollapse\"})[1].text\n",
    "    try:\n",
    "        d['Beds'] = item.find(\"span\",{\"class\":\"infoBed\"}).find(\"b\").text\n",
    "    except:\n",
    "        d['Beds'] = None\n",
    "    try:\n",
    "        d[\"Area\"] = item.find(\"span\",{\"class\":\"infoSqFt\"}).find(\"b\").text\n",
    "    except:\n",
    "        d[\"Area\"] = None\n",
    "    try:\n",
    "        d[\"Full Baths\"] = item.find(\"span\",{\"class\":\"infoValueFullBath\"}).find(\"b\").text\n",
    "    except:\n",
    "        d[\"Full Baths\"] = None\n",
    "    try:\n",
    "        d[\"Half Baths\"] = item.find(\"span\",{\"class\":\"infoValueHalfBath\"}).find(\"b\").text\n",
    "    except:\n",
    "        d[\"Half Baths\"] = None\n",
    "    for column_group in item.find_all(\"div\",{\"class\":\"columnGroup\"}):\n",
    "        #print(column_group)\n",
    "        for feature_group, feature_name in zip(column_group.find_all(\"span\",{\"class\":\"featureGroup\"}), column_group.find_all(\"span\",{\"class\":\"featureName\"})):\n",
    "            if \"Lot Size\" in feature_group.text:\n",
    "                d[\"Lot size\"] = feature_name.text\n",
    "            else:\n",
    "                d[\"Lot Size\"] = None\n",
    "    l.append(d)"
   ]
  },
  {
   "cell_type": "code",
   "execution_count": 45,
   "metadata": {},
   "outputs": [],
   "source": [
    "import pandas as pd"
   ]
  },
  {
   "cell_type": "code",
   "execution_count": 52,
   "metadata": {},
   "outputs": [],
   "source": [
    "df = pd.DataFrame(l)"
   ]
  },
  {
   "cell_type": "code",
   "execution_count": 54,
   "metadata": {},
   "outputs": [],
   "source": [
    "df.to_csv(\"output.csv\")"
   ]
  },
  {
   "cell_type": "code",
   "execution_count": null,
   "metadata": {},
   "outputs": [],
   "source": []
  }
 ],
 "metadata": {
  "kernelspec": {
   "display_name": "Python 3",
   "language": "python",
   "name": "python3"
  },
  "language_info": {
   "codemirror_mode": {
    "name": "ipython",
    "version": 3
   },
   "file_extension": ".py",
   "mimetype": "text/x-python",
   "name": "python",
   "nbconvert_exporter": "python",
   "pygments_lexer": "ipython3",
   "version": "3.7.4"
  }
 },
 "nbformat": 4,
 "nbformat_minor": 4
}
